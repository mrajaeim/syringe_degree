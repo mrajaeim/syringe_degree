{
 "cells": [
  {
   "cell_type": "code",
   "execution_count": 1,
   "metadata": {},
   "outputs": [],
   "source": [
    "from PIL import Image\n",
    "import os"
   ]
  },
  {
   "cell_type": "code",
   "execution_count": 11,
   "metadata": {},
   "outputs": [],
   "source": [
    "for file in os.listdir('./dataset'):\n",
    "    path = f\"./dataset/{file}\"\n",
    "    im = Image.open(path)\n",
    "    im = im.rotate(90, expand=True)\n",
    "    # im.show()\n",
    "    im.save(path)\n"
   ]
  }
 ],
 "metadata": {
  "kernelspec": {
   "display_name": "mybase",
   "language": "python",
   "name": "python3"
  },
  "language_info": {
   "codemirror_mode": {
    "name": "ipython",
    "version": 3
   },
   "file_extension": ".py",
   "mimetype": "text/x-python",
   "name": "python",
   "nbconvert_exporter": "python",
   "pygments_lexer": "ipython3",
   "version": "3.10.8"
  },
  "orig_nbformat": 4,
  "vscode": {
   "interpreter": {
    "hash": "63dd3476773ec03dd9d9bac71f5f145a2cbd5a3a500695cf3c2da4a610a8a60c"
   }
  }
 },
 "nbformat": 4,
 "nbformat_minor": 2
}
